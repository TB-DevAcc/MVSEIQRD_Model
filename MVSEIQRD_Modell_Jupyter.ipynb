{
  "cells": [
    {
      "cell_type": "markdown",
      "metadata": {
        "id": "w7drnwPU0nRK"
      },
      "source": [
        "# $MVSE^2I^3Q^3RD$ - Modell\n",
        "\n",
        "*Maternity-derived Immunity - Vaccinated - Susceptible - Exposed - Infectious - Quarantined - Recovered - Dead*"
      ]
    },
    {
      "cell_type": "markdown",
      "metadata": {
        "id": "gyyn0JWu-qoG"
      },
      "source": [
        "# Anmerkungen zur Arbeitsweise\n",
        "\n",
        "**Thema** - *Autor (Korrekturleser)*\n",
        "\n",
        "Treffen fanden zweiwöchentlich statt, wobei Beiträge kontinuierlich über Google Colaboratory und GitHub geleistet wurden. "
      ]
    },
    {
      "cell_type": "markdown",
      "metadata": {
        "id": "2mSk_q8ae-aF"
      },
      "source": [
        "# Setup"
      ]
    },
    {
      "cell_type": "code",
      "execution_count": 1,
      "metadata": {
        "id": "ePsfS4W2fAj4"
      },
      "outputs": [],
      "source": [
        "# Make sure that the following packages are installed in your kernel\n",
        "# %%capture\n",
        "# !pip install dash==2.0.0\n",
        "# !pip install jupyter-dash\n",
        "# !pip install dash-bootstrap-components\n",
        "# !pip install geopandas\n",
        "# !pip install plotly==5.5.0\n",
        "# !pip install pyvis"
      ]
    },
    {
      "cell_type": "code",
      "execution_count": 2,
      "metadata": {
        "colab": {
          "base_uri": "https://localhost:8080/"
        },
        "id": "a12arGYXfAj5",
        "outputId": "b84050c2-5732-4aa5-cf57-6faa8f4ac9a0"
      },
      "outputs": [],
      "source": [
        "# Make sure the repo is cloned and your current directory is set to the main repo folder\n",
        "# !git clone https://github.com//TB-DevAcc/MVSEIQRD_Model\n",
        "# %cd MVSEIQRD_Model/"
      ]
    },
    {
      "cell_type": "code",
      "execution_count": 3,
      "metadata": {
        "colab": {
          "base_uri": "https://localhost:8080/"
        },
        "id": "OcUcUlxWfAj5",
        "outputId": "0d62abe5-f12d-4b5e-b9fa-8a7e07876282"
      },
      "outputs": [],
      "source": [
        "# Make sure the data is present in data/\n",
        "# # Data can also be downloaded from https://npgeo-corona-npgeo-de.hub.arcgis.com/datasets/dd4580c810204019a7b8eb3e0b329dd6_0/explore\n",
        "# # Might fail initially; retrying often solves the issue\n",
        "# !gdown --no-cookies --id 1Q88A_qC7qMQaF2KpLOJsa02Aorh2_I1D -O data/RKI_COVID19.csv\n",
        "# !gdown --no-cookies --id 1Q88A_qC7qMQaF2KpLOJsa02Aorh2_I1D -O data/RKI_COVID19.csv"
      ]
    },
    {
      "cell_type": "markdown",
      "metadata": {
        "id": "V8tT-eGav3I4"
      },
      "source": [
        "## Einführung - *Artur (Max)*"
      ]
    },
    {
      "cell_type": "markdown",
      "metadata": {
        "id": "C-nKbpFbz33l"
      },
      "source": [
        "SARS-CoV-2 wurde zum allerersten mal in Wuhan, Hubei (China), am 1. Dezember 2019 [1] diagnostiziert.  Im Laufe der nachfolgenden Wochen verbreitete sich die Infektionskrankheit auf der ganzen Welt und wurde schließlich am 12. März 2020 von der WHO zur weltweiten Pandemie erklärt. [2] \n",
        "\n",
        "Um den Verlauf einer solchen Pandemie bzw. Epidemie zu modellieren, kann das sog. SEIR-Modell [3][4] verwendet werden.\n",
        "Dabei steht \n",
        "* **S** (susceptible) für den Anteil der noch nicht Infizierten,\n",
        "* **E** (exposed) für die Gruppe der Infizierten, aber noch nicht Infektiösen,\n",
        "* **I** (infectious) für den Anteil der Infektiösen, also Ansteckenden, und\n",
        "* **R** (recovered) für den Anteil der Erholten bzw. Genesenen\n",
        "\n",
        "Es ist jedoch nur eine vereinfachte Variante, die Ausbreitung einer Epidemie zu beschreiben, da viele Faktoren der Realität nicht berücksichtigt werden (können). Beispielsweise wird der Verlust der Immunität bei Genesenen oder aber auch  Tote und mögliche Quarantäne nicht berücksichtigt. Daher später mehr beim SEIQRS-Modell.\n",
        "\n",
        "---\n",
        "\n",
        "[1] John Cohen Wuhan seafood market may not be source of novel virus spreading globally\n",
        "20.01.2020 doi: 10.1126/science.abb0611\n",
        "\n",
        "[2] WHO erklärt COVID-19-Ausbruch zur Pandemie 12-03-2020 https://www.euro.who.int/de/health-topics/health-emergencies/coronavirus-covid-19/news/news/2020/3/who-announces-covid-19-outbreak-a-pandemic\n",
        "\n",
        "[3] Institute for Disease Modeling https://docs.idmod.org/projects/emod-hiv/en/latest/model-seir.html\n",
        "\n",
        "[4] https://de.wikipedia.org/wiki/SEIR-Modell"
      ]
    },
    {
      "cell_type": "markdown",
      "metadata": {
        "id": "UHGHROBpv3Pw"
      },
      "source": [
        "### Motivation - *Tobi (Max)*"
      ]
    },
    {
      "cell_type": "markdown",
      "metadata": {
        "id": "Qm84wqy_7F3Z"
      },
      "source": [
        "Die Pandemiebekämpfung lässt sich durch intuitiv zu verstehende und robuste epidemiologische Modelle erleichtern. Eine realitätsnahe Modellierung der Pandemie kann als effektives Hilfsmittel zum besseren Verständnis, zur verlässlichen Vorhersage und zur Ausarbeitung von verschiedenen Szenarien dienen. Die inhärente komplexe Natur einer Pandemie erschwert diese Aufgabe deutlich und macht klar, dass einfache Modelle wie das [SIR-Modell](https://de.wikipedia.org/wiki/SIR-Modell) nicht ausreichend sind. \n",
        "\n",
        "Zwar wurden bereits in vorhergehenden Arbeiten [1][2][3] Varianten des SEIR-Modells, die eine robustere mathematische Modellierung der COVID-19 Pandemie ermöglichen, vorgestellt, allerdings weichen die Ergebnisse oft noch signifikant von der Relität der Pandemieentwicklung ab. \n",
        "Eine oder mehrere Gruppierungen nach Alter, Quarantäne, Impfstatus, Schwere der Erkrankung und die Möglichkeit der erneuten Infizierung werden häufig nicht betrachtet.\n",
        "\n",
        "Eine Betrachtung der Lokalitäten der Ansteckungen und örtliche Verbreitung des Virus kann außerdem zu einer realitätsnäheren Modellierung führen. Dies ist insbesondere bei der Visualisierung des Ansteckungsverlaufs hilfreich, die im Rahmen der Aufklärungsarbeit zum Ansteckungspotential des Virus großes Potential verspricht.\n",
        "\n",
        "Aufgrund der fehlenden Betrachtungen und damit einhergehenden Abweichung von der reellen Entwicklung der COVID-19 Pandemieentwicklung, sinkt der Nutzen, den die bestehenden Modelle aus [1][2][3] in der Pandemiebekämpfung haben.\n",
        "\n",
        "---\n",
        "[1] Grimm https://www.nature.com/articles/s41598-021-83540-2#Abs1\n",
        "\n",
        "[2] Berger https://www.nber.org/system/files/working_papers/w26901/w26901.pdf\n",
        "\n",
        "[3] Piccolomini https://arxiv.org/pdf/2003.09909.pdf"
      ]
    },
    {
      "cell_type": "markdown",
      "metadata": {
        "id": "DQiFZu6rv3Sm"
      },
      "source": [
        "### Beitrag - *Max (Tobi)*"
      ]
    },
    {
      "cell_type": "markdown",
      "metadata": {
        "id": "9NXPIutt2pyr"
      },
      "source": [
        "Das in dieser Arbeit zur Berechnung und Veranschaulichung der Pandemieentwicklung verwendete Modell wird mit SEI³Q³RVDS bezeichnet.\n",
        "\n",
        "Die Grundlage dessen stellt zunächst das SEI³Q³RD-Modell aus [1] dar. Bei dieser Variante wird das herkömmliche SEIR-Modell um verschiedene Schweregrade der Infektion (I³) und die bei schwerem Verlauf der Krankheit mögliche Gefahr des Versterbens (D) erweitert. Außerdem wird die Verwendung von Tracing-Apps und entsprechender Kontaktnachverfolgung mit einbezogen, wodurch die Quarantänisierung (Q³), ebenfalls aufgeteilt in unterschiedliche Schweregrade, infizierter Personen und deren Kontakte möglich ist, um die Verbreitung weiter einzuschränken.\n",
        "\n",
        "Zu den Eigenschaften des SEI³Q³RVDS-Modells ist zuerst die Möglichkeit der Rückführung genesener Individuen (R) zur Gruppe der Anfälligen (S) zu nennen.  \n",
        "Es hat sich nämlich gezeigt, dass Menschen nach der Genesung zwar einige Monate vor einer Reinfektion geschützt sein sollten, aber die Möglichkeit einer Ansteckung nach dieser Zeit nicht vollständig auszuschließen ist (vgl. [3], [4]). Dies sollte auf keinen Fall vernachlässigt werden, da es sich auf die Zeit, die zum vollständigen Überstehen der Pandemie notwendig ist, auswirkt. \n",
        "\n",
        "Zum erfolgreichem Bekämpfen der Krankheit gehört auch, diese, so gut es geht, einzudämmmen bzw. die Verbreitung bestmöglich zu verhindern. Ein einfaches und schnell umsetzbares Werkzeug hierfür ist die Quarantänisierung Infizierter und deren Kontaktpersonen. Diese stellt allerdings keine dauerhafte Lösung dar, da es mit viel organisatorischem Aufwand und Kontrolle durch die Gesundheitsbehörden, starken Einschränkungen der quarantänisierten Personen, aber auch viel Selbstdisziplin dieser verbunden ist.  \n",
        "Eine langfristige Bekämpfung der Pandemie ist deshalb erst durch die Immunisierung der Menschen gegen das Virus, in Form einer Impfung, und die dadurch verringerte Menge an anfälligen Personen möglich, weshalb dieser Aspekt einen wichtigen Teil des Modells darstellt.\n",
        "\n",
        "Für eine noch realitätsnähere Simulation des Pandemieverhaltens wird das SEI³Q³RVDS-Modell neben den bereits erwähnten Erweiterungen im Folgenden außerdem auf jeden Landkreis bzw. kreisfreie Stadt Deutschlands einzeln angewandt. Grund hierfür ist, dass sich z.B. die Ausbreitung des Virus in einer Großstadt mit vielen Menschen aufgrund der höheren Bevölkerungsdichte anders verhält als in einem Landkreis, welcher weniger Einwohner pro km² hat.\n",
        "\n",
        "Ziel ist es durch die genannten Eigenschaften des SEI³Q³RVDS-Modells und die Simulation einzelner kleiner Bereiche eine möglichst robuste und realitätsnahe Simulation des Pandemiegeschehens von Covid19 in Deutschland darzustellen. "
      ]
    },
    {
      "cell_type": "markdown",
      "metadata": {
        "id": "-ZkpIjTV1u0E"
      },
      "source": [
        "[1] Grimm, s. oben  \n",
        "[3] https://www.infektionsschutz.de/coronavirus/basisinformationen/coronavirus-sars-cov-2-ansteckung-und-uebertragung/#c16170  \n",
        "[4] https://www.gov.uk/government/news/past-covid-19-infection-provides-some-immunity-but-people-may-still-carry-and-transmit-virus"
      ]
    },
    {
      "cell_type": "markdown",
      "metadata": {
        "id": "IwP_Gs_ev3aq"
      },
      "source": [
        "## Grundlagen"
      ]
    },
    {
      "cell_type": "markdown",
      "metadata": {
        "id": "eGTepMZrzozU"
      },
      "source": [
        "### Biologie - *Artur (Tobi)*"
      ]
    },
    {
      "cell_type": "markdown",
      "metadata": {
        "id": "gp2bVXim240A"
      },
      "source": [
        "In der Theoretischen Biologie werden für die epidemiologische Modellierung Mathematische Modelle beschrieben. Nochfolgende Konzepte und Formeln wurden aus [1] entnommen.\n",
        "\n",
        "Konzepte:\n",
        "\n",
        "Die Basisreproduktionsrate R0 ist die Anzahl der Sekundärfälle, die ein Infizierter in einer gegebenen Population erzeugt. Hierbei wird davon ausgegangen, dass in der Population keine Immunität existiert. \n",
        "S (von engl. Susceptibles) ist der Anteil der Bevölkerung, der nicht immun gegen die Krankheit ist. Dies ist eine Dezimalzahl zwischen 0 und 1. \n",
        "A kennzeichnet das durchschnittliche Alter, in dem eine Population von der Krankheit betroffen wird. \n",
        "L (von engl. Life expectancy) kennzeichnet die durchschnittliche Lebenserwartung in der Bevölkerung. \n",
        "\n",
        "Annahmen:\n",
        "\n",
        "- Man geht von einer rechteckigen Alterspyramide aus, dies ist mein in entwickelten Ländern mit geringer Kindersterblichkeit und häufigem Erreichen der Lebenserwartung zu finden.\n",
        "\n",
        "- Es wird eine homogene Mischung der Bevölkerung vorausgesetzt. Das heißt, dass die Individuen gleich verteilt Kontakte zufällig knüpfen und sich nicht überwiegend auf eine kleinere Gruppe beschränken. In diesem Modell ist es irrelevant ob jemand auf dem Land oder in einer Großstadt lebt.\n",
        "\n",
        "Der endemische Status:\n",
        "\n",
        "Eine Infektionskrankheit ist endemisch, wenn sie fortwährend ohne externe Einflüsse innerhalb einer Population existiert. Mathematisch heißt es wenn jede Person genau eine weitere ansteckt, also der R_0 = 1 ist, wäre diese kleiner als 1 so würde die Krankheit aussterben, wäre sie größer als 1 so würde diese zur einer Epidemie werden.\n",
        "\n",
        "\n",
        "Die Mathematik der Impfungen:\n",
        "\n",
        "Wenn die Bevölkerung einen Immunisierten Anteil überschreitet, also oberhalb der Herdenimmunität ist, so kann eine Krankheit nicht im endemischen Zustand verbleiben und würde somit aussterben. So wurde Pocken ausgerottet und der letzte Pockenfall war 1977 in Somalia.\n",
        "\n",
        "Die berechnung der Herdenimmunität:\n",
        "\n",
        "-Die Formel zur Herdenimmunität wird berechnet indem man den R_0 wert mit 1 Subtrahiert und durch den R_0 teilt. Also (R_0 – 1) / R_0\n",
        "\n",
        "\n",
        "[1] Mathematische Modellierung der Epidemiologie\n",
        "https://www.bionity.com/de/lexikon/Mathematische_Modellierung_der_Epidemiologie.html\n",
        "\n",
        "\n",
        "\n"
      ]
    },
    {
      "cell_type": "markdown",
      "metadata": {
        "id": "qk0VKDw3zl4j"
      },
      "source": [
        "### Mathe - *Tobi (Max)*"
      ]
    },
    {
      "cell_type": "markdown",
      "metadata": {
        "id": "oufe-mXL3Paw"
      },
      "source": [
        "Verwendete mathematische Verfahrensweisen, v.a. Differentialgleichungen und deren (numerische) Lösungen"
      ]
    },
    {
      "cell_type": "markdown",
      "metadata": {
        "id": "MB-fIoJHJ2cP"
      },
      "source": [
        "Die Vorhersage des epidemiologischen Verhaltens von Infektionskrankheiten wurde bereits 1760 von Daniel Bernoulli anhand von Pocken [1] untersucht. Weitere Untersuchungen im 20. Jahrhundert [2, 3, 4, 5, 6] brachten beträchtliche Fortschritte in der Effektivität der Modellierung.  \n",
        "\n",
        "Das Basismodell moderner Modellierungen ist das SIR-Modell, das sich in seinen Bezeichnungen an Hethcote [7] orientiert. Die Bevölkerung wird hier in verschiedene Teilgruppen unterteilt, die verschiedenen Stadien der Infektion unterliegen. Die gängige Notation enthält unter Anderem folgende Bezeichnungen, die wir auch im Folgenden für unser Modell verwenden wollen. "
      ]
    },
    {
      "cell_type": "markdown",
      "metadata": {
        "id": "HbX7ZB_02XYM"
      },
      "source": [
        "<img src=\"https://drive.google.com/uc?export=view&id=1QMCJHlh2ZeLVNRW8QXstQiKf28Z5gn9b\">"
      ]
    },
    {
      "cell_type": "markdown",
      "metadata": {
        "id": "lOv_w7Gq2r7V"
      },
      "source": [
        "Folgendes ist im Hinblick auf die Notation anzumerken:  \n",
        "Die verschiedenen Parameter und Klassen werden teilweise durch eine Annotation ergänzt, die auch in Tabelle 1 aufgeführt ist. \n",
        "\n",
        "Das *Subskript* gibt generell die (Alters-)Gruppenzugehörigkeit an.\n",
        "\n",
        "Für die **Klassen** gibt die *Superskript* Annotation die genaue Teilklasse an, also z.B. asymptomatische Infizierte $I^{\\text{asym}}$ vs. symptomatische Infizierte $I^{\\text{sym}}$.\n",
        "\n",
        "Für die **Parameter** gibt die *Superskript* Annotation auch die Teilklasse an, auf die sich der Parameter bezieht. Im Fall von $\\mu$ und $\\tau$ gibt das Superskript ebenfalls diese Teilklasse an, allerdings wird hier damit ausgedrückt, welcher Übergang vorgenommen werden soll.\n",
        "Zum Beispiel steht $\\mu^{\\text{sym}}I^{\\text{asym}}$ für den Anteil an Individuen einer Klasse (hier asymptomatisch Infizierte), die nun symptomatisch sind, wohingegen $\\mu^{\\text{sev}}I^{\\text{asym}}$ für den Anteil an Individuen einer Klasse (hier asymptomatisch Infizierte) steht, die nun schwer Erkrankt sind.\n",
        "\n"
      ]
    },
    {
      "cell_type": "markdown",
      "metadata": {
        "id": "RBBTt1Sey7Xw"
      },
      "source": [
        "Epidemiologische Modelle lassen sich grundsätzlich in stochastische und deterministische Modelle unterteilen, wobei der Unterschied hier vor allem darin liegt, wie der Fortschritt der Epidemie berechnet wird. Deterministische gehen hier von einem proportionalen Zusammenhang zwischen den Gruppen aus, wobei stochastische Modelle Wahrscheinlichkeiten verwenden um den Verlauf zu modellieren. Wir verwenden ein deterministisches Modell mit Parametern, die entweder durch den Ablauf der Pandemie bereits abgeschätzt werden können, oder durch verschiedenen Verfahren algorithmisch optimiert werden um den realen Verlauf nachzubilden. \n",
        "\n",
        "Die Modelle beruhen in jedem Fall auf verschiedenen Annahmen, wie z.B. der Steady-State-Bedingung (Sterbe- und Geburtenrate gleichen sich außerhalb der Epidemie aus, d.h. die Bevölkerungsgröße $N$ bleibt konstant). Eine dynamische Modellierung der Bevölkerung ist auch möglich, hier ist die Bevölkerungsgröße $N$ dann als zeitabhängige zu gestalten mit $N(t) = (b-d)N$, wobei $b$ den Geburten und $d$ den Toden entspricht.\n",
        "\n",
        "Aufgrund der Dynamik und inhärenten Nichtlinearität wird das System durch eine gewöhnliche Differentialgleichung beschrieben. Diese kann dann als Anfangswertproblem interpretiert und gelöst werden (z.B. durch das explizite Eulerverfahren).\n",
        "\n",
        "In dieser Arbeit setzt sich das System, aufbauend auf der Arbeit von Grimm [8], wie folgt zusammen.  \n"
      ]
    },
    {
      "cell_type": "markdown",
      "metadata": {
        "id": "2HME0qaVA16F"
      },
      "source": [
        "Vorausgesetzt werden gegebene Initialbedingungen für die gilt:\n",
        "\n",
        "\\begin{aligned} \n",
        "M(0) = M_0 \\ge 0, \\quad V(0) = V_0 = 0, \\quad S(0) = S_0 \\ge 0, \\quad E(0) = E_0 \\ge 0, \\quad I(0) = I_0 \\ge 0, \\quad Q(0) = Q_0 = 0, \\quad R(0) = R_0 \\ge 0, \\quad D(0) = D_0 = 0 \n",
        "\\end{aligned} und \n",
        "\n",
        "\\begin{aligned}\n",
        "V(t)+S(t)+E(t)+I(t)+Q(t)+R(t)=1 \\text{ zu jedem Zeitpunkt }t.\n",
        "\\end{aligned}\n",
        "\n",
        "Ebenfalls soll gelten\n",
        "\\begin{aligned}\n",
        "M(t) + D(t) = 0\n",
        "\\end{aligned}\n",
        "\n",
        "und alle Teilklassen summieren sich zur Menge der Gesamtklasse auf, also\n",
        "\\begin{aligned}\n",
        "E^{\\text{tr}}(t) + E^{\\text{nt}}(t) = E(t) \\\\\n",
        "Q^{\\text{asym}}(t) + Q^{\\text{sym}}(t)+ Q^{\\text{sev}}(t) = Q(t) \\\\\n",
        "I^{\\text{asym}}(t) + I^{\\text{sym}}(t)+ I^{\\text{sev}}(t) = I(t) \\\\\n",
        "\\end{aligned}\n",
        "\n",
        "Daraus ergibt sich stets die gesamte Bevölkerung mit \n",
        "\\begin{aligned}\n",
        "(V(t)+S(t)+E(t)+I(t)+Q(t)+R(t))N=N.\n",
        "\\end{aligned}"
      ]
    },
    {
      "cell_type": "markdown",
      "metadata": {
        "id": "-LW-T3iIiD-1"
      },
      "source": [
        "<img src=\"https://drive.google.com/uc?export=view&id=1QAEfMSLcFSpkUlMhkyCPtTBMbs76WriH\">"
      ]
    },
    {
      "cell_type": "markdown",
      "metadata": {
        "id": "4s3KdAIEgcQf"
      },
      "source": [
        "<img src=\"https://drive.google.com/uc?export=view&id=1Q8OT_qWyNRrnTBa7mKiWZhNvqyf734e_\">"
      ]
    },
    {
      "cell_type": "markdown",
      "metadata": {
        "id": "F-GTKBAqqiq9"
      },
      "source": [
        "für alle $k \\in \\{1, \\dots, K\\}$."
      ]
    },
    {
      "cell_type": "markdown",
      "metadata": {
        "id": "p5T_0JdzqURx"
      },
      "source": [
        "Mit der Sterberate $\\sigma$ abhängig von der Verfügbarkeit von Betten in den Intensivstationen:\n",
        "\n",
        "$\\begin{aligned} \\sigma _k(t) = {\\left\\{ \\begin{array}{ll} \\hat{\\sigma }_k, &{} \\text { if } (I^{\\text {sev}}_k(t) + Q^{\\text {sev}}_k(t)) N_k \\le B_k, \\\\ \\frac{\\hat{\\sigma }_k B_k + (I^{\\text {sev}}_k(t) + Q^{\\text {sev}}_k(t)) N_k - B_k}{(I^{\\text {sev}}_k(t) + Q^{\\text {sev}}_k(t))N_k }, &{} \\text { if } (I^{\\text {sev}}_k(t)+ Q^{\\text {sev}}_k(t)) N_k > B_k, \\\\ \\end{array}\\right. } \\end{aligned}$\n",
        "\n",
        "mit $B_k = (N_k / N) B$"
      ]
    },
    {
      "cell_type": "markdown",
      "metadata": {
        "id": "R6_tGMZxNBWd"
      },
      "source": [
        "[1] D. Bernoulli, Essai d’une nouvelle analyse de la mortalit´e caus´ee par la petite v´erole et des\n",
        "avantages de l’inoculation pour la pr´evenir, in M´emoires de Math´ematiques et de Physique,\n",
        "Acad´emie Royale des Sciences, Paris, 1760, pp. 1–45.\n",
        "\n",
        "[2] W. H. Hamer, Epidemic disease in England, Lancet, 1 (1906), pp. 733–739.\n",
        "\n",
        "\n",
        "[3] R. Ross, The Prevention of Malaria, 2nd ed., Murray, London, 1911.\n",
        "\n",
        "[4] N. T. J. Bailey, The Mathematical Theory of Infectious Diseases, 2nd ed., Hafner, New York,\n",
        "1975.\n",
        "\n",
        "[5] K. Dietz, Epidemics and rumours: A survey, J. Roy. Statist. Soc. Ser. A, 130 (1967), pp. 505–\n",
        "528.\n",
        "\n",
        "[6] K. Dietz, The first epidemic model: A historical note on P. D. En’ko, Austral. J. Statist., 30A\n",
        "(1988), pp. 56-65.\n",
        "\n",
        "[7]  Herbert W. Hethcote: The Mathematics of Infectious Diseases. In: SIAM-Review, 2000, Band 42, Nr. 4, S. 599–653. Quelle: JSTOR, abgerufen am 25. Juli 2021\n",
        "\n",
        "[8] Grimm"
      ]
    },
    {
      "cell_type": "markdown",
      "metadata": {
        "id": "J-KmhqA8v3X9"
      },
      "source": [
        "## Verwandte Arbeiten - *Max (Artur)*"
      ]
    },
    {
      "cell_type": "markdown",
      "metadata": {
        "id": "yl_ev3oq3Zwb"
      },
      "source": [
        "Die bisher erwähnten Modelle SEI³Q³RD und SEI³Q³RVDS sind nur zwei Modelle, die durch Erweiterung des herkömmlichen SEIR-Modells versuchen, den Verlauf der Covid19-Pandemie auf ihre Weise bestmöglich darzustellen und zu simulieren. Daneben gibt es noch viele weitere.\n",
        "\n",
        "Das SEIIHURD-Modell aus [1] z.B. ist den anderen beiden grundsätzlich ähnlich, teilt die Infektiösen aber nur auf asymptomatisch bzw. symptomatisch auf und geht davon aus, dass bei einer schweren Infektion klinische Hilfe (H) und bei kritischen Situationen ein Intensivbett (U) notwendig ist. Die Möglichkeit einer Übertragung der Krankheit wird im Krankenhaus vernachlässigt. Der Aspekt der Kontaktnachverfolgung und die Quarantänisierung infizierter Personen bzw. deren Kontaktpersonen wird dagegen nicht verwendet.\n",
        "\n",
        "Das Modell in [2] wiederum ergänzt ein einfaches SEIIR ohne die Betrachtung von potenziellen Toten um die Möglichkeit, dass sich die Verbreitung des Virus nicht nur auf Übertragung von Mensch zu Mensch beschränkt, sondern auch auf anderem Wege geschehen kann. Es betrachtet deshalb u.a. die Anzahl der Erreger (P), die zur entsprechenden Zeit vorhanden sind. Infektiöse Personen verbreiten die Erreger z.B. durch Husten in ihrer Umgebung, in der diese einige Zeit überleben, und jemand anderes steckt sich mit dem Virus dadurch an, dass er z.B. einen Türgriff anfässt. Diese Überlegungen sind v.a. in der frühen Phase der Pandemie interessant, in welcher die Menschen noch nicht ausreichend bzgl. der sog. AHA-Regeln sensibilisiert waren. \n",
        "\n",
        "Eine andere Variante, die Entwicklung der Corona-Pandemie zu beschreiben, lässt sich im Modell [3] finden. Zunächst ist es ein SEIR-Modell, welches um die beiden Komponenten Qurantäne (Q) und Tote (D) erweitert wird, wobei alle Infizierten unter Quarantäne gestellt werden. Die Besonderheit liegt hier in einer weiteren Personengruppe C. Die Zahl der anfälligen Menschen S, und damit die pontentiellen Ansteckungsziele, wird nämlich dadurch verringert, dass diese in ein geschütztes Bevölkerungsgebiet umzieht und so keinen Kontakt mehr mit Infizierten hat. Der Aspekt einer krankenhäuslichen Versorgung oder Intensivbetten wird hier nicht betrachtet."
      ]
    },
    {
      "cell_type": "markdown",
      "metadata": {
        "id": "85-17_uRIDIR"
      },
      "source": [
        "[1] https://www.nature.com/articles/s41467-020-19798-3#Sec9  \n",
        "[2] https://bmcresnotes.biomedcentral.com/articles/10.1186/s13104-020-05192-1  \n",
        "[3] https://www.sciencedirect.com/science/article/pii/S2211379720321604#s0010"
      ]
    },
    {
      "cell_type": "markdown",
      "metadata": {
        "id": "S2Vt6bQ81EUw"
      },
      "source": [
        "## Daten Analyse - *Tobi (Artur)*"
      ]
    },
    {
      "cell_type": "markdown",
      "metadata": {
        "id": "6-T9OlXE3kS7"
      },
      "source": [
        "Betrachten und Vorstellen der Coronadaten, die später zum Vergleich mit unserer Simulation dienen sollen. Tagesmeldungen per Landkreis als Datensatz z.B. [hier](https://npgeo-corona-npgeo-de.hub.arcgis.com/datasets/dd4580c810204019a7b8eb3e0b329dd6_0/explore) und Tagesmeldungen für Impfungen z.B. [hier](https://github.com/robert-koch-institut/COVID-19-Impfungen_in_Deutschland/blob/master/Archiv/2021-07-21_Deutschland_Landkreise_COVID-19-Impfungen.csv). +ICU Betten"
      ]
    },
    {
      "cell_type": "markdown",
      "metadata": {
        "id": "mtWt8x7aR1tu"
      },
      "source": [
        "Die betrachteten Daten sind offiziell gemeldete Stastiken des Robert-Koch-Instituts."
      ]
    },
    {
      "cell_type": "code",
      "execution_count": 4,
      "metadata": {
        "id": "X9I67gHrP3HF"
      },
      "outputs": [],
      "source": [
        "import numpy as np\n",
        "import pandas as pd\n",
        "import matplotlib.pyplot as plt"
      ]
    },
    {
      "cell_type": "code",
      "execution_count": 5,
      "metadata": {
        "id": "0ph4xFboQw6o"
      },
      "outputs": [],
      "source": [
        "cases_df = pd.read_csv(\"data/RKI_COVID19.csv\")\n",
        "vacc_df = pd.read_csv(\"data/RKI_COVID19_Impfungen.csv\")"
      ]
    },
    {
      "cell_type": "code",
      "execution_count": 6,
      "metadata": {
        "colab": {
          "base_uri": "https://localhost:8080/",
          "height": 206
        },
        "id": "FKBcvtCrRFq_",
        "outputId": "39a4ffb3-dc64-4135-8aef-f48ae756e0f4"
      },
      "outputs": [
        {
          "data": {
            "text/html": [
              "<div>\n",
              "<style scoped>\n",
              "    .dataframe tbody tr th:only-of-type {\n",
              "        vertical-align: middle;\n",
              "    }\n",
              "\n",
              "    .dataframe tbody tr th {\n",
              "        vertical-align: top;\n",
              "    }\n",
              "\n",
              "    .dataframe thead th {\n",
              "        text-align: right;\n",
              "    }\n",
              "</style>\n",
              "<table border=\"1\" class=\"dataframe\">\n",
              "  <thead>\n",
              "    <tr style=\"text-align: right;\">\n",
              "      <th></th>\n",
              "      <th>IdBundesland</th>\n",
              "      <th>Bundesland</th>\n",
              "      <th>Landkreis</th>\n",
              "      <th>Altersgruppe</th>\n",
              "      <th>Geschlecht</th>\n",
              "      <th>AnzahlFall</th>\n",
              "      <th>AnzahlTodesfall</th>\n",
              "      <th>ObjectId</th>\n",
              "      <th>Meldedatum</th>\n",
              "      <th>IdLandkreis</th>\n",
              "      <th>Datenstand</th>\n",
              "      <th>NeuerFall</th>\n",
              "      <th>NeuerTodesfall</th>\n",
              "      <th>Refdatum</th>\n",
              "      <th>NeuGenesen</th>\n",
              "      <th>AnzahlGenesen</th>\n",
              "      <th>IstErkrankungsbeginn</th>\n",
              "      <th>Altersgruppe2</th>\n",
              "    </tr>\n",
              "  </thead>\n",
              "  <tbody>\n",
              "    <tr>\n",
              "      <th>0</th>\n",
              "      <td>1</td>\n",
              "      <td>Schleswig-Holstein</td>\n",
              "      <td>SK Flensburg</td>\n",
              "      <td>A35-A59</td>\n",
              "      <td>M</td>\n",
              "      <td>1</td>\n",
              "      <td>0</td>\n",
              "      <td>1</td>\n",
              "      <td>2020/12/20 00:00:00+00</td>\n",
              "      <td>1001</td>\n",
              "      <td>01.01.2022, 00:00 Uhr</td>\n",
              "      <td>0</td>\n",
              "      <td>-9</td>\n",
              "      <td>2020/12/20 00:00:00+00</td>\n",
              "      <td>0</td>\n",
              "      <td>1</td>\n",
              "      <td>0</td>\n",
              "      <td>Nicht übermittelt</td>\n",
              "    </tr>\n",
              "    <tr>\n",
              "      <th>1</th>\n",
              "      <td>1</td>\n",
              "      <td>Schleswig-Holstein</td>\n",
              "      <td>SK Flensburg</td>\n",
              "      <td>A35-A59</td>\n",
              "      <td>M</td>\n",
              "      <td>1</td>\n",
              "      <td>0</td>\n",
              "      <td>2</td>\n",
              "      <td>2020/12/21 00:00:00+00</td>\n",
              "      <td>1001</td>\n",
              "      <td>01.01.2022, 00:00 Uhr</td>\n",
              "      <td>0</td>\n",
              "      <td>-9</td>\n",
              "      <td>2020/12/21 00:00:00+00</td>\n",
              "      <td>0</td>\n",
              "      <td>1</td>\n",
              "      <td>0</td>\n",
              "      <td>Nicht übermittelt</td>\n",
              "    </tr>\n",
              "    <tr>\n",
              "      <th>2</th>\n",
              "      <td>1</td>\n",
              "      <td>Schleswig-Holstein</td>\n",
              "      <td>SK Flensburg</td>\n",
              "      <td>A35-A59</td>\n",
              "      <td>M</td>\n",
              "      <td>1</td>\n",
              "      <td>0</td>\n",
              "      <td>3</td>\n",
              "      <td>2020/12/22 00:00:00+00</td>\n",
              "      <td>1001</td>\n",
              "      <td>01.01.2022, 00:00 Uhr</td>\n",
              "      <td>0</td>\n",
              "      <td>-9</td>\n",
              "      <td>2020/12/20 00:00:00+00</td>\n",
              "      <td>0</td>\n",
              "      <td>1</td>\n",
              "      <td>1</td>\n",
              "      <td>Nicht übermittelt</td>\n",
              "    </tr>\n",
              "    <tr>\n",
              "      <th>3</th>\n",
              "      <td>1</td>\n",
              "      <td>Schleswig-Holstein</td>\n",
              "      <td>SK Flensburg</td>\n",
              "      <td>A35-A59</td>\n",
              "      <td>M</td>\n",
              "      <td>2</td>\n",
              "      <td>0</td>\n",
              "      <td>4</td>\n",
              "      <td>2020/12/22 00:00:00+00</td>\n",
              "      <td>1001</td>\n",
              "      <td>01.01.2022, 00:00 Uhr</td>\n",
              "      <td>0</td>\n",
              "      <td>-9</td>\n",
              "      <td>2020/12/22 00:00:00+00</td>\n",
              "      <td>0</td>\n",
              "      <td>2</td>\n",
              "      <td>0</td>\n",
              "      <td>Nicht übermittelt</td>\n",
              "    </tr>\n",
              "    <tr>\n",
              "      <th>4</th>\n",
              "      <td>1</td>\n",
              "      <td>Schleswig-Holstein</td>\n",
              "      <td>SK Flensburg</td>\n",
              "      <td>A35-A59</td>\n",
              "      <td>M</td>\n",
              "      <td>1</td>\n",
              "      <td>0</td>\n",
              "      <td>5</td>\n",
              "      <td>2020/12/23 00:00:00+00</td>\n",
              "      <td>1001</td>\n",
              "      <td>01.01.2022, 00:00 Uhr</td>\n",
              "      <td>0</td>\n",
              "      <td>-9</td>\n",
              "      <td>2020/12/15 00:00:00+00</td>\n",
              "      <td>0</td>\n",
              "      <td>1</td>\n",
              "      <td>1</td>\n",
              "      <td>Nicht übermittelt</td>\n",
              "    </tr>\n",
              "  </tbody>\n",
              "</table>\n",
              "</div>"
            ],
            "text/plain": [
              "   IdBundesland          Bundesland     Landkreis Altersgruppe Geschlecht  \\\n",
              "0             1  Schleswig-Holstein  SK Flensburg      A35-A59          M   \n",
              "1             1  Schleswig-Holstein  SK Flensburg      A35-A59          M   \n",
              "2             1  Schleswig-Holstein  SK Flensburg      A35-A59          M   \n",
              "3             1  Schleswig-Holstein  SK Flensburg      A35-A59          M   \n",
              "4             1  Schleswig-Holstein  SK Flensburg      A35-A59          M   \n",
              "\n",
              "   AnzahlFall  AnzahlTodesfall  ObjectId              Meldedatum  IdLandkreis  \\\n",
              "0           1                0         1  2020/12/20 00:00:00+00         1001   \n",
              "1           1                0         2  2020/12/21 00:00:00+00         1001   \n",
              "2           1                0         3  2020/12/22 00:00:00+00         1001   \n",
              "3           2                0         4  2020/12/22 00:00:00+00         1001   \n",
              "4           1                0         5  2020/12/23 00:00:00+00         1001   \n",
              "\n",
              "              Datenstand  NeuerFall  NeuerTodesfall                Refdatum  \\\n",
              "0  01.01.2022, 00:00 Uhr          0              -9  2020/12/20 00:00:00+00   \n",
              "1  01.01.2022, 00:00 Uhr          0              -9  2020/12/21 00:00:00+00   \n",
              "2  01.01.2022, 00:00 Uhr          0              -9  2020/12/20 00:00:00+00   \n",
              "3  01.01.2022, 00:00 Uhr          0              -9  2020/12/22 00:00:00+00   \n",
              "4  01.01.2022, 00:00 Uhr          0              -9  2020/12/15 00:00:00+00   \n",
              "\n",
              "   NeuGenesen  AnzahlGenesen  IstErkrankungsbeginn      Altersgruppe2  \n",
              "0           0              1                     0  Nicht übermittelt  \n",
              "1           0              1                     0  Nicht übermittelt  \n",
              "2           0              1                     1  Nicht übermittelt  \n",
              "3           0              2                     0  Nicht übermittelt  \n",
              "4           0              1                     1  Nicht übermittelt  "
            ]
          },
          "execution_count": 6,
          "metadata": {},
          "output_type": "execute_result"
        }
      ],
      "source": [
        "cases_df.head()"
      ]
    },
    {
      "cell_type": "markdown",
      "metadata": {
        "id": "5w9AmGyqSFkJ"
      },
      "source": [
        "Der Datensatz zu neu gemeldeten **Coronafällen** enthält Attribute (siehe [Beschreibung](https://npgeo-corona-npgeo-de.hub.arcgis.com/datasets/dd4580c810204019a7b8eb3e0b329dd6_0/about)), die uns helfen die Fälle nach neu Erkrankten pro Landkreis aufzuteilen. Verwenden werden wir hier vor allem den Landkreis und die täglich neu gemeldeten Fälle, um sie später mit unsere Simulation abzugleichen.\n"
      ]
    },
    {
      "cell_type": "code",
      "execution_count": 7,
      "metadata": {
        "colab": {
          "base_uri": "https://localhost:8080/",
          "height": 206
        },
        "id": "zhlkIqeTRRH6",
        "outputId": "08d96299-12d5-4af4-f060-cce4cb239caa"
      },
      "outputs": [
        {
          "data": {
            "text/html": [
              "<div>\n",
              "<style scoped>\n",
              "    .dataframe tbody tr th:only-of-type {\n",
              "        vertical-align: middle;\n",
              "    }\n",
              "\n",
              "    .dataframe tbody tr th {\n",
              "        vertical-align: top;\n",
              "    }\n",
              "\n",
              "    .dataframe thead th {\n",
              "        text-align: right;\n",
              "    }\n",
              "</style>\n",
              "<table border=\"1\" class=\"dataframe\">\n",
              "  <thead>\n",
              "    <tr style=\"text-align: right;\">\n",
              "      <th></th>\n",
              "      <th>Impfdatum</th>\n",
              "      <th>LandkreisId_Impfort</th>\n",
              "      <th>Altersgruppe</th>\n",
              "      <th>Impfschutz</th>\n",
              "      <th>Anzahl</th>\n",
              "    </tr>\n",
              "  </thead>\n",
              "  <tbody>\n",
              "    <tr>\n",
              "      <th>0</th>\n",
              "      <td>2020-12-27</td>\n",
              "      <td>01003</td>\n",
              "      <td>18-59</td>\n",
              "      <td>1</td>\n",
              "      <td>9</td>\n",
              "    </tr>\n",
              "    <tr>\n",
              "      <th>1</th>\n",
              "      <td>2020-12-27</td>\n",
              "      <td>01003</td>\n",
              "      <td>60+</td>\n",
              "      <td>1</td>\n",
              "      <td>19</td>\n",
              "    </tr>\n",
              "    <tr>\n",
              "      <th>2</th>\n",
              "      <td>2020-12-27</td>\n",
              "      <td>01053</td>\n",
              "      <td>18-59</td>\n",
              "      <td>1</td>\n",
              "      <td>13</td>\n",
              "    </tr>\n",
              "    <tr>\n",
              "      <th>3</th>\n",
              "      <td>2020-12-27</td>\n",
              "      <td>01053</td>\n",
              "      <td>60+</td>\n",
              "      <td>1</td>\n",
              "      <td>200</td>\n",
              "    </tr>\n",
              "    <tr>\n",
              "      <th>4</th>\n",
              "      <td>2020-12-27</td>\n",
              "      <td>01055</td>\n",
              "      <td>18-59</td>\n",
              "      <td>1</td>\n",
              "      <td>20</td>\n",
              "    </tr>\n",
              "  </tbody>\n",
              "</table>\n",
              "</div>"
            ],
            "text/plain": [
              "    Impfdatum LandkreisId_Impfort Altersgruppe  Impfschutz  Anzahl\n",
              "0  2020-12-27               01003        18-59           1       9\n",
              "1  2020-12-27               01003          60+           1      19\n",
              "2  2020-12-27               01053        18-59           1      13\n",
              "3  2020-12-27               01053          60+           1     200\n",
              "4  2020-12-27               01055        18-59           1      20"
            ]
          },
          "execution_count": 7,
          "metadata": {},
          "output_type": "execute_result"
        }
      ],
      "source": [
        "vacc_df.head()"
      ]
    },
    {
      "cell_type": "markdown",
      "metadata": {
        "id": "wFQB_Js6U2vc"
      },
      "source": [
        "Der Datensatz zu neu gemeldeten **Impfungen** enthält Attribute (siehe [Beschreibung](https://github.com/robert-koch-institut/COVID-19-Impfungen_in_Deutschland#covid-19-impfdaten-auf-ebene-der-landkreise)), die uns des Weiteren helfen den Parameter der Impfrate pro Landkreis zu ermitteln. Verwenden werden wir hier ebenfalls vor allem den Landkreis und die täglich neu gemeldeten Impfungen.\n"
      ]
    },
    {
      "cell_type": "markdown",
      "metadata": {
        "id": "DftfJLF7WSOU"
      },
      "source": [
        "### Betrachtung der Falldaten"
      ]
    },
    {
      "cell_type": "code",
      "execution_count": 8,
      "metadata": {
        "colab": {
          "base_uri": "https://localhost:8080/"
        },
        "id": "oisMUdcCWxmQ",
        "outputId": "c228e9fc-4f60-43ec-d0e7-ceb1ef136950"
      },
      "outputs": [
        {
          "data": {
            "text/plain": [
              "False"
            ]
          },
          "execution_count": 8,
          "metadata": {},
          "output_type": "execute_result"
        }
      ],
      "source": [
        "# check for null values\n",
        "np.any(cases_df.isnull())"
      ]
    },
    {
      "cell_type": "code",
      "execution_count": 9,
      "metadata": {
        "colab": {
          "base_uri": "https://localhost:8080/"
        },
        "id": "P46LviI6cb7-",
        "outputId": "cdad30d6-2138-4f7a-e9d9-20ea53ae3ad3"
      },
      "outputs": [
        {
          "data": {
            "text/plain": [
              "411"
            ]
          },
          "execution_count": 9,
          "metadata": {},
          "output_type": "execute_result"
        }
      ],
      "source": [
        "cases_df['IdLandkreis'].nunique()"
      ]
    },
    {
      "cell_type": "code",
      "execution_count": 10,
      "metadata": {
        "colab": {
          "base_uri": "https://localhost:8080/"
        },
        "id": "lhPxiAhOWWJt",
        "outputId": "0643f78f-1fb2-4c0f-d4cc-d0efb89bc2fb"
      },
      "outputs": [
        {
          "name": "stdout",
          "output_type": "stream",
          "text": [
            "<class 'pandas.core.frame.DataFrame'>\n",
            "RangeIndex: 3391786 entries, 0 to 3391785\n",
            "Data columns (total 18 columns):\n",
            " #   Column                Dtype \n",
            "---  ------                ----- \n",
            " 0   IdBundesland          int64 \n",
            " 1   Bundesland            object\n",
            " 2   Landkreis             object\n",
            " 3   Altersgruppe          object\n",
            " 4   Geschlecht            object\n",
            " 5   AnzahlFall            int64 \n",
            " 6   AnzahlTodesfall       int64 \n",
            " 7   ObjectId              int64 \n",
            " 8   Meldedatum            object\n",
            " 9   IdLandkreis           int64 \n",
            " 10  Datenstand            object\n",
            " 11  NeuerFall             int64 \n",
            " 12  NeuerTodesfall        int64 \n",
            " 13  Refdatum              object\n",
            " 14  NeuGenesen            int64 \n",
            " 15  AnzahlGenesen         int64 \n",
            " 16  IstErkrankungsbeginn  int64 \n",
            " 17  Altersgruppe2         object\n",
            "dtypes: int64(10), object(8)\n",
            "memory usage: 465.8+ MB\n"
          ]
        }
      ],
      "source": [
        "# check dtypes\n",
        "cases_df.info()"
      ]
    },
    {
      "cell_type": "code",
      "execution_count": 11,
      "metadata": {
        "id": "TilL1m27XBtR"
      },
      "outputs": [],
      "source": [
        "# adjust dtype to datetime\n",
        "# specific time of day is not important\n",
        "cases_df['Meldedatum'] = cases_df['Meldedatum'].astype('datetime64')\n",
        "cases_df['Datenstand'] = cases_df['Datenstand'].str.slice(0, 10).astype('datetime64')\n",
        "cases_df['Refdatum'] = cases_df['Refdatum'].astype('datetime64')"
      ]
    },
    {
      "cell_type": "code",
      "execution_count": 12,
      "metadata": {
        "colab": {
          "base_uri": "https://localhost:8080/",
          "height": 476
        },
        "id": "qqIGyMHqXWhF",
        "outputId": "9889dd2b-a29b-46fe-912f-1ad04c1de0f5"
      },
      "outputs": [
        {
          "name": "stdout",
          "output_type": "stream",
          "text": [
            "True\n"
          ]
        },
        {
          "name": "stderr",
          "output_type": "stream",
          "text": [
            "C:\\tools\\Anaconda3\\envs\\SciProg\\lib\\site-packages\\ipykernel_launcher.py:3: FutureWarning: In a future version of pandas all arguments of DataFrame.drop except for the argument 'labels' will be keyword-only\n",
            "  This is separate from the ipykernel package so we can avoid doing imports until\n"
          ]
        },
        {
          "data": {
            "text/html": [
              "<div>\n",
              "<style scoped>\n",
              "    .dataframe tbody tr th:only-of-type {\n",
              "        vertical-align: middle;\n",
              "    }\n",
              "\n",
              "    .dataframe tbody tr th {\n",
              "        vertical-align: top;\n",
              "    }\n",
              "\n",
              "    .dataframe thead th {\n",
              "        text-align: right;\n",
              "    }\n",
              "</style>\n",
              "<table border=\"1\" class=\"dataframe\">\n",
              "  <thead>\n",
              "    <tr style=\"text-align: right;\">\n",
              "      <th></th>\n",
              "      <th>IdBundesland</th>\n",
              "      <th>Bundesland</th>\n",
              "      <th>Landkreis</th>\n",
              "      <th>Altersgruppe</th>\n",
              "      <th>Geschlecht</th>\n",
              "      <th>AnzahlFall</th>\n",
              "      <th>AnzahlTodesfall</th>\n",
              "      <th>ObjectId</th>\n",
              "      <th>Meldedatum</th>\n",
              "      <th>IdLandkreis</th>\n",
              "      <th>Datenstand</th>\n",
              "      <th>NeuerFall</th>\n",
              "      <th>NeuerTodesfall</th>\n",
              "      <th>Refdatum</th>\n",
              "      <th>NeuGenesen</th>\n",
              "      <th>AnzahlGenesen</th>\n",
              "      <th>IstErkrankungsbeginn</th>\n",
              "    </tr>\n",
              "  </thead>\n",
              "  <tbody>\n",
              "    <tr>\n",
              "      <th>0</th>\n",
              "      <td>1</td>\n",
              "      <td>Schleswig-Holstein</td>\n",
              "      <td>SK Flensburg</td>\n",
              "      <td>A35-A59</td>\n",
              "      <td>M</td>\n",
              "      <td>1</td>\n",
              "      <td>0</td>\n",
              "      <td>1</td>\n",
              "      <td>2020-12-20</td>\n",
              "      <td>1001</td>\n",
              "      <td>2022-01-01</td>\n",
              "      <td>0</td>\n",
              "      <td>-9</td>\n",
              "      <td>2020-12-20</td>\n",
              "      <td>0</td>\n",
              "      <td>1</td>\n",
              "      <td>0</td>\n",
              "    </tr>\n",
              "    <tr>\n",
              "      <th>1</th>\n",
              "      <td>1</td>\n",
              "      <td>Schleswig-Holstein</td>\n",
              "      <td>SK Flensburg</td>\n",
              "      <td>A35-A59</td>\n",
              "      <td>M</td>\n",
              "      <td>1</td>\n",
              "      <td>0</td>\n",
              "      <td>2</td>\n",
              "      <td>2020-12-21</td>\n",
              "      <td>1001</td>\n",
              "      <td>2022-01-01</td>\n",
              "      <td>0</td>\n",
              "      <td>-9</td>\n",
              "      <td>2020-12-21</td>\n",
              "      <td>0</td>\n",
              "      <td>1</td>\n",
              "      <td>0</td>\n",
              "    </tr>\n",
              "    <tr>\n",
              "      <th>2</th>\n",
              "      <td>1</td>\n",
              "      <td>Schleswig-Holstein</td>\n",
              "      <td>SK Flensburg</td>\n",
              "      <td>A35-A59</td>\n",
              "      <td>M</td>\n",
              "      <td>1</td>\n",
              "      <td>0</td>\n",
              "      <td>3</td>\n",
              "      <td>2020-12-22</td>\n",
              "      <td>1001</td>\n",
              "      <td>2022-01-01</td>\n",
              "      <td>0</td>\n",
              "      <td>-9</td>\n",
              "      <td>2020-12-20</td>\n",
              "      <td>0</td>\n",
              "      <td>1</td>\n",
              "      <td>1</td>\n",
              "    </tr>\n",
              "    <tr>\n",
              "      <th>3</th>\n",
              "      <td>1</td>\n",
              "      <td>Schleswig-Holstein</td>\n",
              "      <td>SK Flensburg</td>\n",
              "      <td>A35-A59</td>\n",
              "      <td>M</td>\n",
              "      <td>2</td>\n",
              "      <td>0</td>\n",
              "      <td>4</td>\n",
              "      <td>2020-12-22</td>\n",
              "      <td>1001</td>\n",
              "      <td>2022-01-01</td>\n",
              "      <td>0</td>\n",
              "      <td>-9</td>\n",
              "      <td>2020-12-22</td>\n",
              "      <td>0</td>\n",
              "      <td>2</td>\n",
              "      <td>0</td>\n",
              "    </tr>\n",
              "    <tr>\n",
              "      <th>4</th>\n",
              "      <td>1</td>\n",
              "      <td>Schleswig-Holstein</td>\n",
              "      <td>SK Flensburg</td>\n",
              "      <td>A35-A59</td>\n",
              "      <td>M</td>\n",
              "      <td>1</td>\n",
              "      <td>0</td>\n",
              "      <td>5</td>\n",
              "      <td>2020-12-23</td>\n",
              "      <td>1001</td>\n",
              "      <td>2022-01-01</td>\n",
              "      <td>0</td>\n",
              "      <td>-9</td>\n",
              "      <td>2020-12-15</td>\n",
              "      <td>0</td>\n",
              "      <td>1</td>\n",
              "      <td>1</td>\n",
              "    </tr>\n",
              "    <tr>\n",
              "      <th>...</th>\n",
              "      <td>...</td>\n",
              "      <td>...</td>\n",
              "      <td>...</td>\n",
              "      <td>...</td>\n",
              "      <td>...</td>\n",
              "      <td>...</td>\n",
              "      <td>...</td>\n",
              "      <td>...</td>\n",
              "      <td>...</td>\n",
              "      <td>...</td>\n",
              "      <td>...</td>\n",
              "      <td>...</td>\n",
              "      <td>...</td>\n",
              "      <td>...</td>\n",
              "      <td>...</td>\n",
              "      <td>...</td>\n",
              "      <td>...</td>\n",
              "    </tr>\n",
              "    <tr>\n",
              "      <th>3391781</th>\n",
              "      <td>16</td>\n",
              "      <td>Thüringen</td>\n",
              "      <td>LK Altenburger Land</td>\n",
              "      <td>A80+</td>\n",
              "      <td>M</td>\n",
              "      <td>1</td>\n",
              "      <td>1</td>\n",
              "      <td>3391782</td>\n",
              "      <td>2020-12-28</td>\n",
              "      <td>16077</td>\n",
              "      <td>2022-01-01</td>\n",
              "      <td>0</td>\n",
              "      <td>0</td>\n",
              "      <td>2020-12-28</td>\n",
              "      <td>-9</td>\n",
              "      <td>0</td>\n",
              "      <td>0</td>\n",
              "    </tr>\n",
              "    <tr>\n",
              "      <th>3391782</th>\n",
              "      <td>16</td>\n",
              "      <td>Thüringen</td>\n",
              "      <td>LK Altenburger Land</td>\n",
              "      <td>A80+</td>\n",
              "      <td>M</td>\n",
              "      <td>1</td>\n",
              "      <td>1</td>\n",
              "      <td>3391783</td>\n",
              "      <td>2020-12-29</td>\n",
              "      <td>16077</td>\n",
              "      <td>2022-01-01</td>\n",
              "      <td>0</td>\n",
              "      <td>0</td>\n",
              "      <td>2020-12-29</td>\n",
              "      <td>-9</td>\n",
              "      <td>0</td>\n",
              "      <td>0</td>\n",
              "    </tr>\n",
              "    <tr>\n",
              "      <th>3391783</th>\n",
              "      <td>16</td>\n",
              "      <td>Thüringen</td>\n",
              "      <td>LK Altenburger Land</td>\n",
              "      <td>A80+</td>\n",
              "      <td>M</td>\n",
              "      <td>1</td>\n",
              "      <td>1</td>\n",
              "      <td>3391784</td>\n",
              "      <td>2020-12-30</td>\n",
              "      <td>16077</td>\n",
              "      <td>2022-01-01</td>\n",
              "      <td>0</td>\n",
              "      <td>0</td>\n",
              "      <td>2020-12-30</td>\n",
              "      <td>-9</td>\n",
              "      <td>0</td>\n",
              "      <td>1</td>\n",
              "    </tr>\n",
              "    <tr>\n",
              "      <th>3391784</th>\n",
              "      <td>16</td>\n",
              "      <td>Thüringen</td>\n",
              "      <td>LK Altenburger Land</td>\n",
              "      <td>A80+</td>\n",
              "      <td>M</td>\n",
              "      <td>2</td>\n",
              "      <td>0</td>\n",
              "      <td>3391785</td>\n",
              "      <td>2020-12-30</td>\n",
              "      <td>16077</td>\n",
              "      <td>2022-01-01</td>\n",
              "      <td>0</td>\n",
              "      <td>-9</td>\n",
              "      <td>2020-12-30</td>\n",
              "      <td>0</td>\n",
              "      <td>2</td>\n",
              "      <td>0</td>\n",
              "    </tr>\n",
              "    <tr>\n",
              "      <th>3391785</th>\n",
              "      <td>16</td>\n",
              "      <td>Thüringen</td>\n",
              "      <td>LK Altenburger Land</td>\n",
              "      <td>A80+</td>\n",
              "      <td>M</td>\n",
              "      <td>1</td>\n",
              "      <td>1</td>\n",
              "      <td>3391786</td>\n",
              "      <td>2020-12-30</td>\n",
              "      <td>16077</td>\n",
              "      <td>2022-01-01</td>\n",
              "      <td>0</td>\n",
              "      <td>0</td>\n",
              "      <td>2020-12-30</td>\n",
              "      <td>-9</td>\n",
              "      <td>0</td>\n",
              "      <td>0</td>\n",
              "    </tr>\n",
              "  </tbody>\n",
              "</table>\n",
              "<p>3391786 rows × 17 columns</p>\n",
              "</div>"
            ],
            "text/plain": [
              "         IdBundesland          Bundesland            Landkreis Altersgruppe  \\\n",
              "0                   1  Schleswig-Holstein         SK Flensburg      A35-A59   \n",
              "1                   1  Schleswig-Holstein         SK Flensburg      A35-A59   \n",
              "2                   1  Schleswig-Holstein         SK Flensburg      A35-A59   \n",
              "3                   1  Schleswig-Holstein         SK Flensburg      A35-A59   \n",
              "4                   1  Schleswig-Holstein         SK Flensburg      A35-A59   \n",
              "...               ...                 ...                  ...          ...   \n",
              "3391781            16           Thüringen  LK Altenburger Land         A80+   \n",
              "3391782            16           Thüringen  LK Altenburger Land         A80+   \n",
              "3391783            16           Thüringen  LK Altenburger Land         A80+   \n",
              "3391784            16           Thüringen  LK Altenburger Land         A80+   \n",
              "3391785            16           Thüringen  LK Altenburger Land         A80+   \n",
              "\n",
              "        Geschlecht  AnzahlFall  AnzahlTodesfall  ObjectId Meldedatum  \\\n",
              "0                M           1                0         1 2020-12-20   \n",
              "1                M           1                0         2 2020-12-21   \n",
              "2                M           1                0         3 2020-12-22   \n",
              "3                M           2                0         4 2020-12-22   \n",
              "4                M           1                0         5 2020-12-23   \n",
              "...            ...         ...              ...       ...        ...   \n",
              "3391781          M           1                1   3391782 2020-12-28   \n",
              "3391782          M           1                1   3391783 2020-12-29   \n",
              "3391783          M           1                1   3391784 2020-12-30   \n",
              "3391784          M           2                0   3391785 2020-12-30   \n",
              "3391785          M           1                1   3391786 2020-12-30   \n",
              "\n",
              "         IdLandkreis Datenstand  NeuerFall  NeuerTodesfall   Refdatum  \\\n",
              "0               1001 2022-01-01          0              -9 2020-12-20   \n",
              "1               1001 2022-01-01          0              -9 2020-12-21   \n",
              "2               1001 2022-01-01          0              -9 2020-12-20   \n",
              "3               1001 2022-01-01          0              -9 2020-12-22   \n",
              "4               1001 2022-01-01          0              -9 2020-12-15   \n",
              "...              ...        ...        ...             ...        ...   \n",
              "3391781        16077 2022-01-01          0               0 2020-12-28   \n",
              "3391782        16077 2022-01-01          0               0 2020-12-29   \n",
              "3391783        16077 2022-01-01          0               0 2020-12-30   \n",
              "3391784        16077 2022-01-01          0              -9 2020-12-30   \n",
              "3391785        16077 2022-01-01          0               0 2020-12-30   \n",
              "\n",
              "         NeuGenesen  AnzahlGenesen  IstErkrankungsbeginn  \n",
              "0                 0              1                     0  \n",
              "1                 0              1                     0  \n",
              "2                 0              1                     1  \n",
              "3                 0              2                     0  \n",
              "4                 0              1                     1  \n",
              "...             ...            ...                   ...  \n",
              "3391781          -9              0                     0  \n",
              "3391782          -9              0                     0  \n",
              "3391783          -9              0                     1  \n",
              "3391784           0              2                     0  \n",
              "3391785          -9              0                     0  \n",
              "\n",
              "[3391786 rows x 17 columns]"
            ]
          },
          "execution_count": 12,
          "metadata": {},
          "output_type": "execute_result"
        }
      ],
      "source": [
        "# check if Altersgruppe2 contains any info, if not drop it\n",
        "print(np.all(cases_df['Altersgruppe2'] == \"Nicht übermittelt\"))\n",
        "cases_df.drop('Altersgruppe2', 1)"
      ]
    },
    {
      "cell_type": "markdown",
      "metadata": {
        "id": "q393w2D6ekVN"
      },
      "source": [
        "Wir betrachten nun den Landkreis Flensburg als Beispiel."
      ]
    },
    {
      "cell_type": "code",
      "execution_count": 13,
      "metadata": {
        "id": "ZPORzD9OeZiX"
      },
      "outputs": [],
      "source": [
        "flens_df = cases_df[cases_df['IdLandkreis'] == 1001]"
      ]
    },
    {
      "cell_type": "code",
      "execution_count": 14,
      "metadata": {
        "colab": {
          "base_uri": "https://localhost:8080/",
          "height": 423
        },
        "id": "VKoMH-fGetwB",
        "outputId": "779a3274-126b-4d9c-d92b-c3c4d39442ee"
      },
      "outputs": [
        {
          "data": {
            "text/html": [
              "<div>\n",
              "<style scoped>\n",
              "    .dataframe tbody tr th:only-of-type {\n",
              "        vertical-align: middle;\n",
              "    }\n",
              "\n",
              "    .dataframe tbody tr th {\n",
              "        vertical-align: top;\n",
              "    }\n",
              "\n",
              "    .dataframe thead th {\n",
              "        text-align: right;\n",
              "    }\n",
              "</style>\n",
              "<table border=\"1\" class=\"dataframe\">\n",
              "  <thead>\n",
              "    <tr style=\"text-align: right;\">\n",
              "      <th></th>\n",
              "      <th>IdBundesland</th>\n",
              "      <th>Bundesland</th>\n",
              "      <th>Landkreis</th>\n",
              "      <th>Altersgruppe</th>\n",
              "      <th>Geschlecht</th>\n",
              "      <th>AnzahlFall</th>\n",
              "      <th>AnzahlTodesfall</th>\n",
              "      <th>ObjectId</th>\n",
              "      <th>Meldedatum</th>\n",
              "      <th>IdLandkreis</th>\n",
              "      <th>Datenstand</th>\n",
              "      <th>NeuerFall</th>\n",
              "      <th>NeuerTodesfall</th>\n",
              "      <th>Refdatum</th>\n",
              "      <th>NeuGenesen</th>\n",
              "      <th>AnzahlGenesen</th>\n",
              "      <th>IstErkrankungsbeginn</th>\n",
              "      <th>Altersgruppe2</th>\n",
              "    </tr>\n",
              "  </thead>\n",
              "  <tbody>\n",
              "    <tr>\n",
              "      <th>0</th>\n",
              "      <td>1</td>\n",
              "      <td>Schleswig-Holstein</td>\n",
              "      <td>SK Flensburg</td>\n",
              "      <td>A35-A59</td>\n",
              "      <td>M</td>\n",
              "      <td>1</td>\n",
              "      <td>0</td>\n",
              "      <td>1</td>\n",
              "      <td>2020-12-20</td>\n",
              "      <td>1001</td>\n",
              "      <td>2022-01-01</td>\n",
              "      <td>0</td>\n",
              "      <td>-9</td>\n",
              "      <td>2020-12-20</td>\n",
              "      <td>0</td>\n",
              "      <td>1</td>\n",
              "      <td>0</td>\n",
              "      <td>Nicht übermittelt</td>\n",
              "    </tr>\n",
              "    <tr>\n",
              "      <th>1</th>\n",
              "      <td>1</td>\n",
              "      <td>Schleswig-Holstein</td>\n",
              "      <td>SK Flensburg</td>\n",
              "      <td>A35-A59</td>\n",
              "      <td>M</td>\n",
              "      <td>1</td>\n",
              "      <td>0</td>\n",
              "      <td>2</td>\n",
              "      <td>2020-12-21</td>\n",
              "      <td>1001</td>\n",
              "      <td>2022-01-01</td>\n",
              "      <td>0</td>\n",
              "      <td>-9</td>\n",
              "      <td>2020-12-21</td>\n",
              "      <td>0</td>\n",
              "      <td>1</td>\n",
              "      <td>0</td>\n",
              "      <td>Nicht übermittelt</td>\n",
              "    </tr>\n",
              "    <tr>\n",
              "      <th>2</th>\n",
              "      <td>1</td>\n",
              "      <td>Schleswig-Holstein</td>\n",
              "      <td>SK Flensburg</td>\n",
              "      <td>A35-A59</td>\n",
              "      <td>M</td>\n",
              "      <td>1</td>\n",
              "      <td>0</td>\n",
              "      <td>3</td>\n",
              "      <td>2020-12-22</td>\n",
              "      <td>1001</td>\n",
              "      <td>2022-01-01</td>\n",
              "      <td>0</td>\n",
              "      <td>-9</td>\n",
              "      <td>2020-12-20</td>\n",
              "      <td>0</td>\n",
              "      <td>1</td>\n",
              "      <td>1</td>\n",
              "      <td>Nicht übermittelt</td>\n",
              "    </tr>\n",
              "    <tr>\n",
              "      <th>3</th>\n",
              "      <td>1</td>\n",
              "      <td>Schleswig-Holstein</td>\n",
              "      <td>SK Flensburg</td>\n",
              "      <td>A35-A59</td>\n",
              "      <td>M</td>\n",
              "      <td>2</td>\n",
              "      <td>0</td>\n",
              "      <td>4</td>\n",
              "      <td>2020-12-22</td>\n",
              "      <td>1001</td>\n",
              "      <td>2022-01-01</td>\n",
              "      <td>0</td>\n",
              "      <td>-9</td>\n",
              "      <td>2020-12-22</td>\n",
              "      <td>0</td>\n",
              "      <td>2</td>\n",
              "      <td>0</td>\n",
              "      <td>Nicht übermittelt</td>\n",
              "    </tr>\n",
              "    <tr>\n",
              "      <th>4</th>\n",
              "      <td>1</td>\n",
              "      <td>Schleswig-Holstein</td>\n",
              "      <td>SK Flensburg</td>\n",
              "      <td>A35-A59</td>\n",
              "      <td>M</td>\n",
              "      <td>1</td>\n",
              "      <td>0</td>\n",
              "      <td>5</td>\n",
              "      <td>2020-12-23</td>\n",
              "      <td>1001</td>\n",
              "      <td>2022-01-01</td>\n",
              "      <td>0</td>\n",
              "      <td>-9</td>\n",
              "      <td>2020-12-15</td>\n",
              "      <td>0</td>\n",
              "      <td>1</td>\n",
              "      <td>1</td>\n",
              "      <td>Nicht übermittelt</td>\n",
              "    </tr>\n",
              "    <tr>\n",
              "      <th>...</th>\n",
              "      <td>...</td>\n",
              "      <td>...</td>\n",
              "      <td>...</td>\n",
              "      <td>...</td>\n",
              "      <td>...</td>\n",
              "      <td>...</td>\n",
              "      <td>...</td>\n",
              "      <td>...</td>\n",
              "      <td>...</td>\n",
              "      <td>...</td>\n",
              "      <td>...</td>\n",
              "      <td>...</td>\n",
              "      <td>...</td>\n",
              "      <td>...</td>\n",
              "      <td>...</td>\n",
              "      <td>...</td>\n",
              "      <td>...</td>\n",
              "      <td>...</td>\n",
              "    </tr>\n",
              "    <tr>\n",
              "      <th>4020</th>\n",
              "      <td>1</td>\n",
              "      <td>Schleswig-Holstein</td>\n",
              "      <td>SK Flensburg</td>\n",
              "      <td>A35-A59</td>\n",
              "      <td>W</td>\n",
              "      <td>1</td>\n",
              "      <td>0</td>\n",
              "      <td>4021</td>\n",
              "      <td>2021-12-10</td>\n",
              "      <td>1001</td>\n",
              "      <td>2022-01-01</td>\n",
              "      <td>0</td>\n",
              "      <td>-9</td>\n",
              "      <td>2021-12-06</td>\n",
              "      <td>0</td>\n",
              "      <td>1</td>\n",
              "      <td>1</td>\n",
              "      <td>Nicht übermittelt</td>\n",
              "    </tr>\n",
              "    <tr>\n",
              "      <th>4021</th>\n",
              "      <td>1</td>\n",
              "      <td>Schleswig-Holstein</td>\n",
              "      <td>SK Flensburg</td>\n",
              "      <td>A35-A59</td>\n",
              "      <td>W</td>\n",
              "      <td>2</td>\n",
              "      <td>0</td>\n",
              "      <td>4022</td>\n",
              "      <td>2021-12-10</td>\n",
              "      <td>1001</td>\n",
              "      <td>2022-01-01</td>\n",
              "      <td>0</td>\n",
              "      <td>-9</td>\n",
              "      <td>2021-12-07</td>\n",
              "      <td>0</td>\n",
              "      <td>2</td>\n",
              "      <td>1</td>\n",
              "      <td>Nicht übermittelt</td>\n",
              "    </tr>\n",
              "    <tr>\n",
              "      <th>4022</th>\n",
              "      <td>1</td>\n",
              "      <td>Schleswig-Holstein</td>\n",
              "      <td>SK Flensburg</td>\n",
              "      <td>A35-A59</td>\n",
              "      <td>W</td>\n",
              "      <td>1</td>\n",
              "      <td>0</td>\n",
              "      <td>4023</td>\n",
              "      <td>2021-12-10</td>\n",
              "      <td>1001</td>\n",
              "      <td>2022-01-01</td>\n",
              "      <td>0</td>\n",
              "      <td>-9</td>\n",
              "      <td>2021-12-08</td>\n",
              "      <td>0</td>\n",
              "      <td>1</td>\n",
              "      <td>1</td>\n",
              "      <td>Nicht übermittelt</td>\n",
              "    </tr>\n",
              "    <tr>\n",
              "      <th>4023</th>\n",
              "      <td>1</td>\n",
              "      <td>Schleswig-Holstein</td>\n",
              "      <td>SK Flensburg</td>\n",
              "      <td>A35-A59</td>\n",
              "      <td>W</td>\n",
              "      <td>1</td>\n",
              "      <td>0</td>\n",
              "      <td>4024</td>\n",
              "      <td>2021-12-10</td>\n",
              "      <td>1001</td>\n",
              "      <td>2022-01-01</td>\n",
              "      <td>0</td>\n",
              "      <td>-9</td>\n",
              "      <td>2021-12-09</td>\n",
              "      <td>0</td>\n",
              "      <td>1</td>\n",
              "      <td>1</td>\n",
              "      <td>Nicht übermittelt</td>\n",
              "    </tr>\n",
              "    <tr>\n",
              "      <th>4024</th>\n",
              "      <td>1</td>\n",
              "      <td>Schleswig-Holstein</td>\n",
              "      <td>SK Flensburg</td>\n",
              "      <td>A35-A59</td>\n",
              "      <td>W</td>\n",
              "      <td>1</td>\n",
              "      <td>0</td>\n",
              "      <td>4025</td>\n",
              "      <td>2021-12-11</td>\n",
              "      <td>1001</td>\n",
              "      <td>2022-01-01</td>\n",
              "      <td>0</td>\n",
              "      <td>-9</td>\n",
              "      <td>2021-12-07</td>\n",
              "      <td>0</td>\n",
              "      <td>1</td>\n",
              "      <td>1</td>\n",
              "      <td>Nicht übermittelt</td>\n",
              "    </tr>\n",
              "  </tbody>\n",
              "</table>\n",
              "<p>3445 rows × 18 columns</p>\n",
              "</div>"
            ],
            "text/plain": [
              "      IdBundesland          Bundesland     Landkreis Altersgruppe Geschlecht  \\\n",
              "0                1  Schleswig-Holstein  SK Flensburg      A35-A59          M   \n",
              "1                1  Schleswig-Holstein  SK Flensburg      A35-A59          M   \n",
              "2                1  Schleswig-Holstein  SK Flensburg      A35-A59          M   \n",
              "3                1  Schleswig-Holstein  SK Flensburg      A35-A59          M   \n",
              "4                1  Schleswig-Holstein  SK Flensburg      A35-A59          M   \n",
              "...            ...                 ...           ...          ...        ...   \n",
              "4020             1  Schleswig-Holstein  SK Flensburg      A35-A59          W   \n",
              "4021             1  Schleswig-Holstein  SK Flensburg      A35-A59          W   \n",
              "4022             1  Schleswig-Holstein  SK Flensburg      A35-A59          W   \n",
              "4023             1  Schleswig-Holstein  SK Flensburg      A35-A59          W   \n",
              "4024             1  Schleswig-Holstein  SK Flensburg      A35-A59          W   \n",
              "\n",
              "      AnzahlFall  AnzahlTodesfall  ObjectId Meldedatum  IdLandkreis  \\\n",
              "0              1                0         1 2020-12-20         1001   \n",
              "1              1                0         2 2020-12-21         1001   \n",
              "2              1                0         3 2020-12-22         1001   \n",
              "3              2                0         4 2020-12-22         1001   \n",
              "4              1                0         5 2020-12-23         1001   \n",
              "...          ...              ...       ...        ...          ...   \n",
              "4020           1                0      4021 2021-12-10         1001   \n",
              "4021           2                0      4022 2021-12-10         1001   \n",
              "4022           1                0      4023 2021-12-10         1001   \n",
              "4023           1                0      4024 2021-12-10         1001   \n",
              "4024           1                0      4025 2021-12-11         1001   \n",
              "\n",
              "     Datenstand  NeuerFall  NeuerTodesfall   Refdatum  NeuGenesen  \\\n",
              "0    2022-01-01          0              -9 2020-12-20           0   \n",
              "1    2022-01-01          0              -9 2020-12-21           0   \n",
              "2    2022-01-01          0              -9 2020-12-20           0   \n",
              "3    2022-01-01          0              -9 2020-12-22           0   \n",
              "4    2022-01-01          0              -9 2020-12-15           0   \n",
              "...         ...        ...             ...        ...         ...   \n",
              "4020 2022-01-01          0              -9 2021-12-06           0   \n",
              "4021 2022-01-01          0              -9 2021-12-07           0   \n",
              "4022 2022-01-01          0              -9 2021-12-08           0   \n",
              "4023 2022-01-01          0              -9 2021-12-09           0   \n",
              "4024 2022-01-01          0              -9 2021-12-07           0   \n",
              "\n",
              "      AnzahlGenesen  IstErkrankungsbeginn      Altersgruppe2  \n",
              "0                 1                     0  Nicht übermittelt  \n",
              "1                 1                     0  Nicht übermittelt  \n",
              "2                 1                     1  Nicht übermittelt  \n",
              "3                 2                     0  Nicht übermittelt  \n",
              "4                 1                     1  Nicht übermittelt  \n",
              "...             ...                   ...                ...  \n",
              "4020              1                     1  Nicht übermittelt  \n",
              "4021              2                     1  Nicht übermittelt  \n",
              "4022              1                     1  Nicht übermittelt  \n",
              "4023              1                     1  Nicht übermittelt  \n",
              "4024              1                     1  Nicht übermittelt  \n",
              "\n",
              "[3445 rows x 18 columns]"
            ]
          },
          "execution_count": 14,
          "metadata": {},
          "output_type": "execute_result"
        }
      ],
      "source": [
        "flens_df"
      ]
    },
    {
      "cell_type": "markdown",
      "metadata": {
        "id": "CuHTuzr7v3dS"
      },
      "source": [
        "## Implementierung"
      ]
    },
    {
      "cell_type": "markdown",
      "metadata": {
        "id": "d7XmNvp91dPX"
      },
      "source": [
        "### Modell"
      ]
    },
    {
      "cell_type": "markdown",
      "metadata": {
        "id": "On5MSBFkDA20"
      },
      "source": [
        "<img src=\"https://drive.google.com/uc?export=view&id=1wME9c_YurT5HDUGvAHr2zg8wQbIYkqrH\">"
      ]
    },
    {
      "cell_type": "markdown",
      "metadata": {
        "id": "WGDr4nSv1dW_"
      },
      "source": [
        "### Verwendete Algorithmen zur Lösung - *Max*\n",
        "Der in dieser Arbeit verwendete Algorithmus zur Lösung des Gleichungssystems ist standardmäßig ```solve_ivp``` aus dem Paket ```scipy.integrate``` mit der Methode 'RK45', welche ein explizites 4-stufiges Runge-Kutta-Verfahren nutzt.  \n",
        "Daneben wurden noch Simulationen mit den Methoden 'RK23', ein 2-stufiges Runge-Kutta-Verfahren, und 'DOP843', ein 8-stufiges Verfahren, durchgeführt. Aufgefallen ist dabei, dass Letzteres das langsamste der drei ist und sich das Ergebnis in einem bestimmten Bereich nicht \"geradlinig\" verhält, sondern immer wieder Schwankungen mit sich führt.\n",
        "\n",
        "Neben dem genannten ```solve_ivp``` wurde auch noch eine Simulation mit der älteren Funktion ```odeint``` aus dem gleichen Paket genutzt. Hierbei ist jedoch nichts weitere aufgefallen."
      ]
    },
    {
      "cell_type": "markdown",
      "metadata": {
        "id": "G7tpq1KG16c0"
      },
      "source": [
        "## Evaluation"
      ]
    },
    {
      "cell_type": "markdown",
      "metadata": {
        "id": "kxTjbQ_x1-_b"
      },
      "source": [
        "### Simulation mit Visualisierung"
      ]
    },
    {
      "cell_type": "code",
      "execution_count": 1,
      "metadata": {
        "colab": {
          "base_uri": "https://localhost:8080/",
          "height": 901
        },
        "id": "X9IVOAC5SnH5",
        "outputId": "59573a27-c4bd-4f6b-a663-5df5f5c440e3"
      },
      "outputs": [
        {
          "data": {
            "text/html": [
              "\n",
              "        <iframe\n",
              "            width=\"1600\"\n",
              "            height=\"880\"\n",
              "            src=\"http://127.0.0.1:8050/\"\n",
              "            frameborder=\"0\"\n",
              "            allowfullscreen\n",
              "            \n",
              "        ></iframe>\n",
              "        "
            ],
            "text/plain": [
              "<IPython.lib.display.IFrame at 0x2640a0a4488>"
            ]
          },
          "metadata": {},
          "output_type": "display_data"
        }
      ],
      "source": [
        "from app.model import Model\n",
        "\n",
        "model = Model()\n",
        "model.run_app()"
      ]
    },
    {
      "cell_type": "markdown",
      "metadata": {
        "id": "S8VdBH8s2Fso"
      },
      "source": [
        "## Zusammenfassung und Ausblick"
      ]
    },
    {
      "cell_type": "markdown",
      "metadata": {
        "id": "kU_A-fVH4EaL"
      },
      "source": [
        "Fazit; weitere Verbesserungen; Folgerungen aus Ergebnis"
      ]
    }
  ],
  "metadata": {
    "colab": {
      "collapsed_sections": [],
      "name": "MVSEIQRD_Modell_Colab.ipynb",
      "provenance": []
    },
    "kernelspec": {
      "display_name": "Python 3",
      "name": "python3"
    },
    "language_info": {
      "codemirror_mode": {
        "name": "ipython",
        "version": 3
      },
      "file_extension": ".py",
      "mimetype": "text/x-python",
      "name": "python",
      "nbconvert_exporter": "python",
      "pygments_lexer": "ipython3",
      "version": "3.7.11"
    }
  },
  "nbformat": 4,
  "nbformat_minor": 0
}
